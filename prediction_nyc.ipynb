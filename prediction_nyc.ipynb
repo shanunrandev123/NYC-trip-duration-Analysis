{
 "cells": [
  {
   "cell_type": "code",
   "execution_count": 176,
   "id": "4af6695d",
   "metadata": {},
   "outputs": [],
   "source": [
    "import pandas as pd\n",
    "import numpy as np\n",
    "import matplotlib.pyplot as plt\n",
    "from datetime import datetime\n",
    "import seaborn as sns"
   ]
  },
  {
   "cell_type": "code",
   "execution_count": 177,
   "id": "228a91ef",
   "metadata": {},
   "outputs": [],
   "source": [
    "def haversine_distance(df, lat1, lat2, long1, long2):\n",
    "    \n",
    "    r = 6371 #average radius of earth in kilometers\n",
    "    \n",
    "    phi1 = np.radians(df[lat1])\n",
    "    \n",
    "    phi2 = np.radians(df[lat2])\n",
    "    \n",
    "    delta_phi = np.radians(df[lat2] - df[lat1])\n",
    "    \n",
    "    delta_lambda = np.radians(df[long2] - df[long1])\n",
    "    \n",
    "    a = np.sin(delta_phi/2) ** 2 + np.cos(phi1) * np.cos(phi2) * np.sin(delta_lambda/2)**2\n",
    "    \n",
    "    c = 2 * np.arctan2(np.sqrt(a), np.sqrt(1-a))\n",
    "    \n",
    "    d = r * c\n",
    "    \n",
    "    return d\n",
    "    \n",
    "    \n",
    "    "
   ]
  },
  {
   "cell_type": "code",
   "execution_count": 178,
   "id": "0ccbd2c1",
   "metadata": {},
   "outputs": [],
   "source": [
    "df = pd.read_csv(r'C:\\Users\\Asus\\OneDrive\\Desktop\\nyc_taxi\\Group5-project\\train.csv')"
   ]
  },
  {
   "cell_type": "code",
   "execution_count": 179,
   "id": "777bca87",
   "metadata": {},
   "outputs": [
    {
     "data": {
      "text/html": [
       "<div>\n",
       "<style scoped>\n",
       "    .dataframe tbody tr th:only-of-type {\n",
       "        vertical-align: middle;\n",
       "    }\n",
       "\n",
       "    .dataframe tbody tr th {\n",
       "        vertical-align: top;\n",
       "    }\n",
       "\n",
       "    .dataframe thead th {\n",
       "        text-align: right;\n",
       "    }\n",
       "</style>\n",
       "<table border=\"1\" class=\"dataframe\">\n",
       "  <thead>\n",
       "    <tr style=\"text-align: right;\">\n",
       "      <th></th>\n",
       "      <th>id</th>\n",
       "      <th>vendor_id</th>\n",
       "      <th>pickup_datetime</th>\n",
       "      <th>dropoff_datetime</th>\n",
       "      <th>passenger_count</th>\n",
       "      <th>pickup_longitude</th>\n",
       "      <th>pickup_latitude</th>\n",
       "      <th>dropoff_longitude</th>\n",
       "      <th>dropoff_latitude</th>\n",
       "      <th>store_and_fwd_flag</th>\n",
       "      <th>trip_duration</th>\n",
       "    </tr>\n",
       "  </thead>\n",
       "  <tbody>\n",
       "    <tr>\n",
       "      <th>0</th>\n",
       "      <td>id2875421</td>\n",
       "      <td>2</td>\n",
       "      <td>2016-03-14 17:24:55</td>\n",
       "      <td>2016-03-14 17:32:30</td>\n",
       "      <td>1</td>\n",
       "      <td>-73.982155</td>\n",
       "      <td>40.767937</td>\n",
       "      <td>-73.964630</td>\n",
       "      <td>40.765602</td>\n",
       "      <td>N</td>\n",
       "      <td>455</td>\n",
       "    </tr>\n",
       "    <tr>\n",
       "      <th>1</th>\n",
       "      <td>id2377394</td>\n",
       "      <td>1</td>\n",
       "      <td>2016-06-12 00:43:35</td>\n",
       "      <td>2016-06-12 00:54:38</td>\n",
       "      <td>1</td>\n",
       "      <td>-73.980415</td>\n",
       "      <td>40.738564</td>\n",
       "      <td>-73.999481</td>\n",
       "      <td>40.731152</td>\n",
       "      <td>N</td>\n",
       "      <td>663</td>\n",
       "    </tr>\n",
       "    <tr>\n",
       "      <th>2</th>\n",
       "      <td>id3858529</td>\n",
       "      <td>2</td>\n",
       "      <td>2016-01-19 11:35:24</td>\n",
       "      <td>2016-01-19 12:10:48</td>\n",
       "      <td>1</td>\n",
       "      <td>-73.979027</td>\n",
       "      <td>40.763939</td>\n",
       "      <td>-74.005333</td>\n",
       "      <td>40.710087</td>\n",
       "      <td>N</td>\n",
       "      <td>2124</td>\n",
       "    </tr>\n",
       "    <tr>\n",
       "      <th>3</th>\n",
       "      <td>id3504673</td>\n",
       "      <td>2</td>\n",
       "      <td>2016-04-06 19:32:31</td>\n",
       "      <td>2016-04-06 19:39:40</td>\n",
       "      <td>1</td>\n",
       "      <td>-74.010040</td>\n",
       "      <td>40.719971</td>\n",
       "      <td>-74.012268</td>\n",
       "      <td>40.706718</td>\n",
       "      <td>N</td>\n",
       "      <td>429</td>\n",
       "    </tr>\n",
       "    <tr>\n",
       "      <th>4</th>\n",
       "      <td>id2181028</td>\n",
       "      <td>2</td>\n",
       "      <td>2016-03-26 13:30:55</td>\n",
       "      <td>2016-03-26 13:38:10</td>\n",
       "      <td>1</td>\n",
       "      <td>-73.973053</td>\n",
       "      <td>40.793209</td>\n",
       "      <td>-73.972923</td>\n",
       "      <td>40.782520</td>\n",
       "      <td>N</td>\n",
       "      <td>435</td>\n",
       "    </tr>\n",
       "  </tbody>\n",
       "</table>\n",
       "</div>"
      ],
      "text/plain": [
       "          id  vendor_id      pickup_datetime     dropoff_datetime  \\\n",
       "0  id2875421          2  2016-03-14 17:24:55  2016-03-14 17:32:30   \n",
       "1  id2377394          1  2016-06-12 00:43:35  2016-06-12 00:54:38   \n",
       "2  id3858529          2  2016-01-19 11:35:24  2016-01-19 12:10:48   \n",
       "3  id3504673          2  2016-04-06 19:32:31  2016-04-06 19:39:40   \n",
       "4  id2181028          2  2016-03-26 13:30:55  2016-03-26 13:38:10   \n",
       "\n",
       "   passenger_count  pickup_longitude  pickup_latitude  dropoff_longitude  \\\n",
       "0                1        -73.982155        40.767937         -73.964630   \n",
       "1                1        -73.980415        40.738564         -73.999481   \n",
       "2                1        -73.979027        40.763939         -74.005333   \n",
       "3                1        -74.010040        40.719971         -74.012268   \n",
       "4                1        -73.973053        40.793209         -73.972923   \n",
       "\n",
       "   dropoff_latitude store_and_fwd_flag  trip_duration  \n",
       "0         40.765602                  N            455  \n",
       "1         40.731152                  N            663  \n",
       "2         40.710087                  N           2124  \n",
       "3         40.706718                  N            429  \n",
       "4         40.782520                  N            435  "
      ]
     },
     "execution_count": 179,
     "metadata": {},
     "output_type": "execute_result"
    }
   ],
   "source": [
    "df.head()"
   ]
  },
  {
   "cell_type": "code",
   "execution_count": 180,
   "id": "a38b83bc",
   "metadata": {},
   "outputs": [
    {
     "data": {
      "text/plain": [
       "1458644"
      ]
     },
     "execution_count": 180,
     "metadata": {},
     "output_type": "execute_result"
    }
   ],
   "source": [
    "len(df)"
   ]
  },
  {
   "cell_type": "code",
   "execution_count": 181,
   "id": "f2899709",
   "metadata": {},
   "outputs": [
    {
     "data": {
      "text/plain": [
       "0"
      ]
     },
     "execution_count": 181,
     "metadata": {},
     "output_type": "execute_result"
    }
   ],
   "source": [
    "df.duplicated().sum()"
   ]
  },
  {
   "cell_type": "code",
   "execution_count": 182,
   "id": "2743ea67",
   "metadata": {},
   "outputs": [],
   "source": [
    "df['dist_km'] = haversine_distance(df, 'pickup_latitude', 'dropoff_latitude', 'pickup_longitude', 'dropoff_longitude')"
   ]
  },
  {
   "cell_type": "code",
   "execution_count": 183,
   "id": "09286d40",
   "metadata": {},
   "outputs": [
    {
     "data": {
      "text/html": [
       "<div>\n",
       "<style scoped>\n",
       "    .dataframe tbody tr th:only-of-type {\n",
       "        vertical-align: middle;\n",
       "    }\n",
       "\n",
       "    .dataframe tbody tr th {\n",
       "        vertical-align: top;\n",
       "    }\n",
       "\n",
       "    .dataframe thead th {\n",
       "        text-align: right;\n",
       "    }\n",
       "</style>\n",
       "<table border=\"1\" class=\"dataframe\">\n",
       "  <thead>\n",
       "    <tr style=\"text-align: right;\">\n",
       "      <th></th>\n",
       "      <th>id</th>\n",
       "      <th>vendor_id</th>\n",
       "      <th>pickup_datetime</th>\n",
       "      <th>dropoff_datetime</th>\n",
       "      <th>passenger_count</th>\n",
       "      <th>pickup_longitude</th>\n",
       "      <th>pickup_latitude</th>\n",
       "      <th>dropoff_longitude</th>\n",
       "      <th>dropoff_latitude</th>\n",
       "      <th>store_and_fwd_flag</th>\n",
       "      <th>trip_duration</th>\n",
       "      <th>dist_km</th>\n",
       "    </tr>\n",
       "  </thead>\n",
       "  <tbody>\n",
       "    <tr>\n",
       "      <th>246</th>\n",
       "      <td>id3487442</td>\n",
       "      <td>2</td>\n",
       "      <td>2016-02-29 18:39:12</td>\n",
       "      <td>2016-02-29 18:42:59</td>\n",
       "      <td>1</td>\n",
       "      <td>-73.981819</td>\n",
       "      <td>40.768963</td>\n",
       "      <td>-73.981819</td>\n",
       "      <td>40.768963</td>\n",
       "      <td>N</td>\n",
       "      <td>227</td>\n",
       "      <td>0.0</td>\n",
       "    </tr>\n",
       "    <tr>\n",
       "      <th>291</th>\n",
       "      <td>id0924324</td>\n",
       "      <td>2</td>\n",
       "      <td>2016-05-10 18:07:52</td>\n",
       "      <td>2016-05-10 18:26:21</td>\n",
       "      <td>2</td>\n",
       "      <td>-73.959068</td>\n",
       "      <td>40.775661</td>\n",
       "      <td>-73.959068</td>\n",
       "      <td>40.775661</td>\n",
       "      <td>N</td>\n",
       "      <td>1109</td>\n",
       "      <td>0.0</td>\n",
       "    </tr>\n",
       "    <tr>\n",
       "      <th>407</th>\n",
       "      <td>id1145809</td>\n",
       "      <td>2</td>\n",
       "      <td>2016-05-16 23:15:13</td>\n",
       "      <td>2016-05-16 23:31:00</td>\n",
       "      <td>6</td>\n",
       "      <td>-73.808487</td>\n",
       "      <td>40.687336</td>\n",
       "      <td>-73.808487</td>\n",
       "      <td>40.687336</td>\n",
       "      <td>N</td>\n",
       "      <td>947</td>\n",
       "      <td>0.0</td>\n",
       "    </tr>\n",
       "    <tr>\n",
       "      <th>702</th>\n",
       "      <td>id3499387</td>\n",
       "      <td>1</td>\n",
       "      <td>2016-01-25 19:45:12</td>\n",
       "      <td>2016-01-25 19:54:52</td>\n",
       "      <td>1</td>\n",
       "      <td>-73.786720</td>\n",
       "      <td>40.647041</td>\n",
       "      <td>-73.786720</td>\n",
       "      <td>40.647041</td>\n",
       "      <td>N</td>\n",
       "      <td>580</td>\n",
       "      <td>0.0</td>\n",
       "    </tr>\n",
       "    <tr>\n",
       "      <th>1620</th>\n",
       "      <td>id0753277</td>\n",
       "      <td>1</td>\n",
       "      <td>2016-01-27 22:29:31</td>\n",
       "      <td>2016-01-27 22:29:58</td>\n",
       "      <td>1</td>\n",
       "      <td>-74.209854</td>\n",
       "      <td>40.816853</td>\n",
       "      <td>-74.209854</td>\n",
       "      <td>40.816853</td>\n",
       "      <td>N</td>\n",
       "      <td>27</td>\n",
       "      <td>0.0</td>\n",
       "    </tr>\n",
       "    <tr>\n",
       "      <th>...</th>\n",
       "      <td>...</td>\n",
       "      <td>...</td>\n",
       "      <td>...</td>\n",
       "      <td>...</td>\n",
       "      <td>...</td>\n",
       "      <td>...</td>\n",
       "      <td>...</td>\n",
       "      <td>...</td>\n",
       "      <td>...</td>\n",
       "      <td>...</td>\n",
       "      <td>...</td>\n",
       "      <td>...</td>\n",
       "    </tr>\n",
       "    <tr>\n",
       "      <th>1456399</th>\n",
       "      <td>id0618137</td>\n",
       "      <td>2</td>\n",
       "      <td>2016-02-17 08:57:04</td>\n",
       "      <td>2016-02-17 09:18:28</td>\n",
       "      <td>1</td>\n",
       "      <td>-73.978859</td>\n",
       "      <td>40.756721</td>\n",
       "      <td>-73.978859</td>\n",
       "      <td>40.756721</td>\n",
       "      <td>N</td>\n",
       "      <td>1284</td>\n",
       "      <td>0.0</td>\n",
       "    </tr>\n",
       "    <tr>\n",
       "      <th>1456627</th>\n",
       "      <td>id1048767</td>\n",
       "      <td>2</td>\n",
       "      <td>2016-02-06 22:01:40</td>\n",
       "      <td>2016-02-06 22:03:47</td>\n",
       "      <td>1</td>\n",
       "      <td>-73.963554</td>\n",
       "      <td>40.768517</td>\n",
       "      <td>-73.963554</td>\n",
       "      <td>40.768517</td>\n",
       "      <td>N</td>\n",
       "      <td>127</td>\n",
       "      <td>0.0</td>\n",
       "    </tr>\n",
       "    <tr>\n",
       "      <th>1456989</th>\n",
       "      <td>id2595295</td>\n",
       "      <td>2</td>\n",
       "      <td>2016-03-12 07:37:16</td>\n",
       "      <td>2016-03-12 07:46:42</td>\n",
       "      <td>1</td>\n",
       "      <td>-73.984848</td>\n",
       "      <td>40.728222</td>\n",
       "      <td>-73.984848</td>\n",
       "      <td>40.728222</td>\n",
       "      <td>N</td>\n",
       "      <td>566</td>\n",
       "      <td>0.0</td>\n",
       "    </tr>\n",
       "    <tr>\n",
       "      <th>1457114</th>\n",
       "      <td>id0051314</td>\n",
       "      <td>2</td>\n",
       "      <td>2016-04-09 20:34:21</td>\n",
       "      <td>2016-04-09 20:44:53</td>\n",
       "      <td>1</td>\n",
       "      <td>-73.965981</td>\n",
       "      <td>40.770988</td>\n",
       "      <td>-73.965981</td>\n",
       "      <td>40.770988</td>\n",
       "      <td>N</td>\n",
       "      <td>632</td>\n",
       "      <td>0.0</td>\n",
       "    </tr>\n",
       "    <tr>\n",
       "      <th>1457136</th>\n",
       "      <td>id1907784</td>\n",
       "      <td>1</td>\n",
       "      <td>2016-03-25 20:06:52</td>\n",
       "      <td>2016-03-25 20:09:48</td>\n",
       "      <td>1</td>\n",
       "      <td>-73.966705</td>\n",
       "      <td>40.769783</td>\n",
       "      <td>-73.966705</td>\n",
       "      <td>40.769783</td>\n",
       "      <td>N</td>\n",
       "      <td>176</td>\n",
       "      <td>0.0</td>\n",
       "    </tr>\n",
       "  </tbody>\n",
       "</table>\n",
       "<p>5897 rows × 12 columns</p>\n",
       "</div>"
      ],
      "text/plain": [
       "                id  vendor_id      pickup_datetime     dropoff_datetime  \\\n",
       "246      id3487442          2  2016-02-29 18:39:12  2016-02-29 18:42:59   \n",
       "291      id0924324          2  2016-05-10 18:07:52  2016-05-10 18:26:21   \n",
       "407      id1145809          2  2016-05-16 23:15:13  2016-05-16 23:31:00   \n",
       "702      id3499387          1  2016-01-25 19:45:12  2016-01-25 19:54:52   \n",
       "1620     id0753277          1  2016-01-27 22:29:31  2016-01-27 22:29:58   \n",
       "...            ...        ...                  ...                  ...   \n",
       "1456399  id0618137          2  2016-02-17 08:57:04  2016-02-17 09:18:28   \n",
       "1456627  id1048767          2  2016-02-06 22:01:40  2016-02-06 22:03:47   \n",
       "1456989  id2595295          2  2016-03-12 07:37:16  2016-03-12 07:46:42   \n",
       "1457114  id0051314          2  2016-04-09 20:34:21  2016-04-09 20:44:53   \n",
       "1457136  id1907784          1  2016-03-25 20:06:52  2016-03-25 20:09:48   \n",
       "\n",
       "         passenger_count  pickup_longitude  pickup_latitude  \\\n",
       "246                    1        -73.981819        40.768963   \n",
       "291                    2        -73.959068        40.775661   \n",
       "407                    6        -73.808487        40.687336   \n",
       "702                    1        -73.786720        40.647041   \n",
       "1620                   1        -74.209854        40.816853   \n",
       "...                  ...               ...              ...   \n",
       "1456399                1        -73.978859        40.756721   \n",
       "1456627                1        -73.963554        40.768517   \n",
       "1456989                1        -73.984848        40.728222   \n",
       "1457114                1        -73.965981        40.770988   \n",
       "1457136                1        -73.966705        40.769783   \n",
       "\n",
       "         dropoff_longitude  dropoff_latitude store_and_fwd_flag  \\\n",
       "246             -73.981819         40.768963                  N   \n",
       "291             -73.959068         40.775661                  N   \n",
       "407             -73.808487         40.687336                  N   \n",
       "702             -73.786720         40.647041                  N   \n",
       "1620            -74.209854         40.816853                  N   \n",
       "...                    ...               ...                ...   \n",
       "1456399         -73.978859         40.756721                  N   \n",
       "1456627         -73.963554         40.768517                  N   \n",
       "1456989         -73.984848         40.728222                  N   \n",
       "1457114         -73.965981         40.770988                  N   \n",
       "1457136         -73.966705         40.769783                  N   \n",
       "\n",
       "         trip_duration  dist_km  \n",
       "246                227      0.0  \n",
       "291               1109      0.0  \n",
       "407                947      0.0  \n",
       "702                580      0.0  \n",
       "1620                27      0.0  \n",
       "...                ...      ...  \n",
       "1456399           1284      0.0  \n",
       "1456627            127      0.0  \n",
       "1456989            566      0.0  \n",
       "1457114            632      0.0  \n",
       "1457136            176      0.0  \n",
       "\n",
       "[5897 rows x 12 columns]"
      ]
     },
     "execution_count": 183,
     "metadata": {},
     "output_type": "execute_result"
    }
   ],
   "source": [
    "df[df['dist_km'] == 0]"
   ]
  },
  {
   "cell_type": "code",
   "execution_count": 184,
   "id": "0140141c",
   "metadata": {},
   "outputs": [],
   "source": [
    "df = df.loc[df['dist_km'] != 0]\n"
   ]
  },
  {
   "cell_type": "code",
   "execution_count": 185,
   "id": "566fa609",
   "metadata": {},
   "outputs": [
    {
     "data": {
      "text/plain": [
       "1452747"
      ]
     },
     "execution_count": 185,
     "metadata": {},
     "output_type": "execute_result"
    }
   ],
   "source": [
    "len(df)"
   ]
  },
  {
   "cell_type": "code",
   "execution_count": 186,
   "id": "70263e74",
   "metadata": {},
   "outputs": [],
   "source": [
    "#finding upper and lower bounds using IQR method - any data point which is beyond (lower limit - 1.5IQR) and (upper limit + 1.5IQR) will be termed as an outlier\n",
    "\n",
    "#IQR = difference between the 75th quantile and the 25th quantile"
   ]
  },
  {
   "cell_type": "code",
   "execution_count": 187,
   "id": "960b6b02",
   "metadata": {},
   "outputs": [],
   "source": [
    "def find_limits(data, variable, fold):\n",
    "    IQR = df[variable].quantile(0.75) - df[variable].quantile(0.25)\n",
    "    lower_limit = df[variable].quantile(0.25) - (IQR * fold)\n",
    "    upper_limit = df[variable].quantile(0.75) + (IQR * fold)\n",
    "    return lower_limit, upper_limit"
   ]
  },
  {
   "cell_type": "code",
   "execution_count": 188,
   "id": "636a128b",
   "metadata": {},
   "outputs": [],
   "source": [
    "#CHECKING IF THERE ANY ROWS WITH 0 TRIP DURATION"
   ]
  },
  {
   "cell_type": "code",
   "execution_count": 189,
   "id": "33c0a35d",
   "metadata": {},
   "outputs": [
    {
     "data": {
      "text/html": [
       "<div>\n",
       "<style scoped>\n",
       "    .dataframe tbody tr th:only-of-type {\n",
       "        vertical-align: middle;\n",
       "    }\n",
       "\n",
       "    .dataframe tbody tr th {\n",
       "        vertical-align: top;\n",
       "    }\n",
       "\n",
       "    .dataframe thead th {\n",
       "        text-align: right;\n",
       "    }\n",
       "</style>\n",
       "<table border=\"1\" class=\"dataframe\">\n",
       "  <thead>\n",
       "    <tr style=\"text-align: right;\">\n",
       "      <th></th>\n",
       "      <th>id</th>\n",
       "      <th>vendor_id</th>\n",
       "      <th>pickup_datetime</th>\n",
       "      <th>dropoff_datetime</th>\n",
       "      <th>passenger_count</th>\n",
       "      <th>pickup_longitude</th>\n",
       "      <th>pickup_latitude</th>\n",
       "      <th>dropoff_longitude</th>\n",
       "      <th>dropoff_latitude</th>\n",
       "      <th>store_and_fwd_flag</th>\n",
       "      <th>trip_duration</th>\n",
       "      <th>dist_km</th>\n",
       "    </tr>\n",
       "  </thead>\n",
       "  <tbody>\n",
       "  </tbody>\n",
       "</table>\n",
       "</div>"
      ],
      "text/plain": [
       "Empty DataFrame\n",
       "Columns: [id, vendor_id, pickup_datetime, dropoff_datetime, passenger_count, pickup_longitude, pickup_latitude, dropoff_longitude, dropoff_latitude, store_and_fwd_flag, trip_duration, dist_km]\n",
       "Index: []"
      ]
     },
     "execution_count": 189,
     "metadata": {},
     "output_type": "execute_result"
    }
   ],
   "source": [
    "df[df.trip_duration == 0]  # there arent any"
   ]
  },
  {
   "cell_type": "code",
   "execution_count": 190,
   "id": "decc32e6",
   "metadata": {},
   "outputs": [],
   "source": [
    "#removing data points where we have 0 passenger count"
   ]
  },
  {
   "cell_type": "code",
   "execution_count": 191,
   "id": "d25f0005",
   "metadata": {},
   "outputs": [
    {
     "data": {
      "text/plain": [
       "52"
      ]
     },
     "execution_count": 191,
     "metadata": {},
     "output_type": "execute_result"
    }
   ],
   "source": [
    "len(df[df['passenger_count'] == 0])"
   ]
  },
  {
   "cell_type": "code",
   "execution_count": 192,
   "id": "72b4dbb4",
   "metadata": {},
   "outputs": [],
   "source": [
    "df = df.loc[df['passenger_count'] != 0]"
   ]
  },
  {
   "cell_type": "code",
   "execution_count": 193,
   "id": "af1aee5b",
   "metadata": {},
   "outputs": [
    {
     "data": {
      "text/html": [
       "<div>\n",
       "<style scoped>\n",
       "    .dataframe tbody tr th:only-of-type {\n",
       "        vertical-align: middle;\n",
       "    }\n",
       "\n",
       "    .dataframe tbody tr th {\n",
       "        vertical-align: top;\n",
       "    }\n",
       "\n",
       "    .dataframe thead th {\n",
       "        text-align: right;\n",
       "    }\n",
       "</style>\n",
       "<table border=\"1\" class=\"dataframe\">\n",
       "  <thead>\n",
       "    <tr style=\"text-align: right;\">\n",
       "      <th></th>\n",
       "      <th>id</th>\n",
       "      <th>vendor_id</th>\n",
       "      <th>pickup_datetime</th>\n",
       "      <th>dropoff_datetime</th>\n",
       "      <th>passenger_count</th>\n",
       "      <th>pickup_longitude</th>\n",
       "      <th>pickup_latitude</th>\n",
       "      <th>dropoff_longitude</th>\n",
       "      <th>dropoff_latitude</th>\n",
       "      <th>store_and_fwd_flag</th>\n",
       "      <th>trip_duration</th>\n",
       "      <th>dist_km</th>\n",
       "    </tr>\n",
       "  </thead>\n",
       "  <tbody>\n",
       "  </tbody>\n",
       "</table>\n",
       "</div>"
      ],
      "text/plain": [
       "Empty DataFrame\n",
       "Columns: [id, vendor_id, pickup_datetime, dropoff_datetime, passenger_count, pickup_longitude, pickup_latitude, dropoff_longitude, dropoff_latitude, store_and_fwd_flag, trip_duration, dist_km]\n",
       "Index: []"
      ]
     },
     "execution_count": 193,
     "metadata": {},
     "output_type": "execute_result"
    }
   ],
   "source": [
    "df[df.passenger_count == 0]"
   ]
  },
  {
   "cell_type": "code",
   "execution_count": 194,
   "id": "be649748",
   "metadata": {},
   "outputs": [
    {
     "name": "stdout",
     "output_type": "stream",
     "text": [
      "<class 'pandas.core.frame.DataFrame'>\n",
      "Index: 1452695 entries, 0 to 1458643\n",
      "Data columns (total 12 columns):\n",
      " #   Column              Non-Null Count    Dtype  \n",
      "---  ------              --------------    -----  \n",
      " 0   id                  1452695 non-null  object \n",
      " 1   vendor_id           1452695 non-null  int64  \n",
      " 2   pickup_datetime     1452695 non-null  object \n",
      " 3   dropoff_datetime    1452695 non-null  object \n",
      " 4   passenger_count     1452695 non-null  int64  \n",
      " 5   pickup_longitude    1452695 non-null  float64\n",
      " 6   pickup_latitude     1452695 non-null  float64\n",
      " 7   dropoff_longitude   1452695 non-null  float64\n",
      " 8   dropoff_latitude    1452695 non-null  float64\n",
      " 9   store_and_fwd_flag  1452695 non-null  object \n",
      " 10  trip_duration       1452695 non-null  int64  \n",
      " 11  dist_km             1452695 non-null  float64\n",
      "dtypes: float64(5), int64(3), object(4)\n",
      "memory usage: 144.1+ MB\n"
     ]
    }
   ],
   "source": [
    "df.info()"
   ]
  },
  {
   "cell_type": "code",
   "execution_count": 195,
   "id": "687c15ff",
   "metadata": {},
   "outputs": [
    {
     "data": {
      "text/plain": [
       "(34.71223449707031, 51.88108444213867)"
      ]
     },
     "execution_count": 195,
     "metadata": {},
     "output_type": "execute_result"
    }
   ],
   "source": [
    "df.pickup_latitude.min(), df.pickup_latitude.max()"
   ]
  },
  {
   "cell_type": "code",
   "execution_count": 196,
   "id": "c36840e2",
   "metadata": {},
   "outputs": [],
   "source": [
    "lower_limit_pickup_latitude, upper_limit_pickup_latitude = find_limits(df, 'pickup_latitude', 1.5)"
   ]
  },
  {
   "cell_type": "code",
   "execution_count": 197,
   "id": "e5ea6d03",
   "metadata": {},
   "outputs": [
    {
     "data": {
      "text/plain": [
       "(40.69091796875, 40.8148193359375)"
      ]
     },
     "execution_count": 197,
     "metadata": {},
     "output_type": "execute_result"
    }
   ],
   "source": [
    "lower_limit_pickup_latitude, upper_limit_pickup_latitude"
   ]
  },
  {
   "cell_type": "code",
   "execution_count": 198,
   "id": "abc1f9d3",
   "metadata": {},
   "outputs": [
    {
     "data": {
      "text/plain": [
       "(-121.93334197998048, -66.97216033935547)"
      ]
     },
     "execution_count": 198,
     "metadata": {},
     "output_type": "execute_result"
    }
   ],
   "source": [
    "df.pickup_longitude.min(), df.pickup_longitude.max()"
   ]
  },
  {
   "cell_type": "code",
   "execution_count": 199,
   "id": "c3d3608a",
   "metadata": {},
   "outputs": [],
   "source": [
    "lower_limit_pickup_longitude, upper_limit_pickup_longitude = find_limits(df, 'pickup_longitude', 1.5)"
   ]
  },
  {
   "cell_type": "code",
   "execution_count": 200,
   "id": "bda49b3e",
   "metadata": {},
   "outputs": [
    {
     "data": {
      "text/plain": [
       "(-74.0285758972168, -73.93070602416992)"
      ]
     },
     "execution_count": 200,
     "metadata": {},
     "output_type": "execute_result"
    }
   ],
   "source": [
    "lower_limit_pickup_longitude, upper_limit_pickup_longitude"
   ]
  },
  {
   "cell_type": "code",
   "execution_count": 201,
   "id": "cfc100bc",
   "metadata": {},
   "outputs": [
    {
     "data": {
      "text/plain": [
       "(32.1811408996582, 43.92102813720703)"
      ]
     },
     "execution_count": 201,
     "metadata": {},
     "output_type": "execute_result"
    }
   ],
   "source": [
    "df.dropoff_latitude.min(), df.dropoff_latitude.max()"
   ]
  },
  {
   "cell_type": "code",
   "execution_count": 202,
   "id": "66dff7e5",
   "metadata": {},
   "outputs": [],
   "source": [
    "lower_limit_drop_latitude, upper_limit_drop_latitude = find_limits(df, 'dropoff_latitude', 1.5)"
   ]
  },
  {
   "cell_type": "code",
   "execution_count": 203,
   "id": "fab574a0",
   "metadata": {},
   "outputs": [
    {
     "data": {
      "text/plain": [
       "(40.68507957458496, 40.82065391540527)"
      ]
     },
     "execution_count": 203,
     "metadata": {},
     "output_type": "execute_result"
    }
   ],
   "source": [
    "lower_limit_drop_latitude, upper_limit_drop_latitude"
   ]
  },
  {
   "cell_type": "code",
   "execution_count": 204,
   "id": "5adf833c",
   "metadata": {},
   "outputs": [
    {
     "data": {
      "text/plain": [
       "(-121.9333038330078, -69.04801940917969)"
      ]
     },
     "execution_count": 204,
     "metadata": {},
     "output_type": "execute_result"
    }
   ],
   "source": [
    "df.dropoff_longitude.min(), df.dropoff_longitude.max()"
   ]
  },
  {
   "cell_type": "code",
   "execution_count": 205,
   "id": "528e8516",
   "metadata": {},
   "outputs": [],
   "source": [
    "lower_limit_drop_longitude, upper_limit_drop_longitude = find_limits(df, 'dropoff_longitude', 1.5)"
   ]
  },
  {
   "cell_type": "code",
   "execution_count": 206,
   "id": "eda071c5",
   "metadata": {},
   "outputs": [
    {
     "data": {
      "text/plain": [
       "(-74.03371047973633, -73.92070388793945)"
      ]
     },
     "execution_count": 206,
     "metadata": {},
     "output_type": "execute_result"
    }
   ],
   "source": [
    "lower_limit_drop_longitude, upper_limit_drop_longitude"
   ]
  },
  {
   "cell_type": "code",
   "execution_count": 207,
   "id": "4485cdf8",
   "metadata": {},
   "outputs": [
    {
     "data": {
      "text/plain": [
       "(0.0004241749810421957, 1240.9086766508526)"
      ]
     },
     "execution_count": 207,
     "metadata": {},
     "output_type": "execute_result"
    }
   ],
   "source": [
    "df.dist_km.min(), df.dist_km.max()"
   ]
  },
  {
   "cell_type": "code",
   "execution_count": 208,
   "id": "f0358157",
   "metadata": {},
   "outputs": [],
   "source": [
    "lower_limit_dist_km, upper_limit_dist_km = find_limits(df, 'dist_km', 1.5)"
   ]
  },
  {
   "cell_type": "code",
   "execution_count": 209,
   "id": "de189fbe",
   "metadata": {},
   "outputs": [
    {
     "data": {
      "text/plain": [
       "(-2.730769788637214, 7.859490350047735)"
      ]
     },
     "execution_count": 209,
     "metadata": {},
     "output_type": "execute_result"
    }
   ],
   "source": [
    "lower_limit_dist_km, upper_limit_dist_km"
   ]
  },
  {
   "cell_type": "code",
   "execution_count": 210,
   "id": "6225ec84",
   "metadata": {},
   "outputs": [
    {
     "data": {
      "text/plain": [
       "(1, 3526282)"
      ]
     },
     "execution_count": 210,
     "metadata": {},
     "output_type": "execute_result"
    }
   ],
   "source": [
    "df.trip_duration.min(), df.trip_duration.max()"
   ]
  },
  {
   "cell_type": "code",
   "execution_count": 211,
   "id": "1741f01b",
   "metadata": {},
   "outputs": [],
   "source": [
    "lower_limit_trip_duration, upper_limit_trip_duration = find_limits(df, 'trip_duration', 1.5)"
   ]
  },
  {
   "cell_type": "code",
   "execution_count": 212,
   "id": "e2bfa290",
   "metadata": {},
   "outputs": [
    {
     "data": {
      "text/plain": [
       "(-619.0, 2093.0)"
      ]
     },
     "execution_count": 212,
     "metadata": {},
     "output_type": "execute_result"
    }
   ],
   "source": [
    "lower_limit_trip_duration, upper_limit_trip_duration"
   ]
  },
  {
   "cell_type": "code",
   "execution_count": 213,
   "id": "da0ab08a",
   "metadata": {},
   "outputs": [],
   "source": [
    "df['trip_duration'].clip(lower=lower_limit_trip_duration, upper=upper_limit_trip_duration, inplace=True)"
   ]
  },
  {
   "cell_type": "code",
   "execution_count": 214,
   "id": "1f680eb3",
   "metadata": {},
   "outputs": [],
   "source": [
    "df['pickup_latitude'].clip(lower=lower_limit_pickup_latitude, upper=upper_limit_pickup_latitude, inplace=True)"
   ]
  },
  {
   "cell_type": "code",
   "execution_count": 215,
   "id": "5a475dca",
   "metadata": {},
   "outputs": [],
   "source": [
    "df['pickup_longitude'].clip(lower=lower_limit_pickup_longitude, upper = upper_limit_pickup_longitude, inplace=True)"
   ]
  },
  {
   "cell_type": "code",
   "execution_count": 216,
   "id": "2b4faeef",
   "metadata": {},
   "outputs": [],
   "source": [
    "df['dropoff_latitude'].clip(lower = lower_limit_drop_latitude, upper = upper_limit_drop_latitude, inplace=True)"
   ]
  },
  {
   "cell_type": "code",
   "execution_count": 217,
   "id": "47f4fd3d",
   "metadata": {},
   "outputs": [],
   "source": [
    "df['dropoff_longitude'].clip(lower=lower_limit_drop_longitude, upper = upper_limit_drop_longitude, inplace=True)"
   ]
  },
  {
   "cell_type": "code",
   "execution_count": 218,
   "id": "ab00e131",
   "metadata": {},
   "outputs": [],
   "source": [
    "df['dist_km'].clip(lower=lower_limit_dist_km, upper = upper_limit_dist_km, inplace=True)"
   ]
  },
  {
   "cell_type": "code",
   "execution_count": 219,
   "id": "1f4e8aeb",
   "metadata": {},
   "outputs": [],
   "source": [
    "df = pd.concat([df, pd.get_dummies(df['store_and_fwd_flag'],dtype=int)], axis=1)\n",
    "df.drop(['store_and_fwd_flag'], axis=1, inplace=True)\n",
    "df = pd.concat([df, pd.get_dummies(df['vendor_id'],dtype=int)], axis=1)\n",
    "df.drop(['vendor_id'], axis=1, inplace=True)\n"
   ]
  },
  {
   "cell_type": "code",
   "execution_count": 220,
   "id": "eda244d2",
   "metadata": {},
   "outputs": [
    {
     "data": {
      "text/html": [
       "<div>\n",
       "<style scoped>\n",
       "    .dataframe tbody tr th:only-of-type {\n",
       "        vertical-align: middle;\n",
       "    }\n",
       "\n",
       "    .dataframe tbody tr th {\n",
       "        vertical-align: top;\n",
       "    }\n",
       "\n",
       "    .dataframe thead th {\n",
       "        text-align: right;\n",
       "    }\n",
       "</style>\n",
       "<table border=\"1\" class=\"dataframe\">\n",
       "  <thead>\n",
       "    <tr style=\"text-align: right;\">\n",
       "      <th></th>\n",
       "      <th>id</th>\n",
       "      <th>pickup_datetime</th>\n",
       "      <th>dropoff_datetime</th>\n",
       "      <th>passenger_count</th>\n",
       "      <th>pickup_longitude</th>\n",
       "      <th>pickup_latitude</th>\n",
       "      <th>dropoff_longitude</th>\n",
       "      <th>dropoff_latitude</th>\n",
       "      <th>trip_duration</th>\n",
       "      <th>dist_km</th>\n",
       "      <th>N</th>\n",
       "      <th>Y</th>\n",
       "      <th>1</th>\n",
       "      <th>2</th>\n",
       "    </tr>\n",
       "  </thead>\n",
       "  <tbody>\n",
       "    <tr>\n",
       "      <th>0</th>\n",
       "      <td>id2875421</td>\n",
       "      <td>2016-03-14 17:24:55</td>\n",
       "      <td>2016-03-14 17:32:30</td>\n",
       "      <td>1</td>\n",
       "      <td>-73.982155</td>\n",
       "      <td>40.767937</td>\n",
       "      <td>-73.964630</td>\n",
       "      <td>40.765602</td>\n",
       "      <td>455</td>\n",
       "      <td>1.498521</td>\n",
       "      <td>1</td>\n",
       "      <td>0</td>\n",
       "      <td>0</td>\n",
       "      <td>1</td>\n",
       "    </tr>\n",
       "    <tr>\n",
       "      <th>1</th>\n",
       "      <td>id2377394</td>\n",
       "      <td>2016-06-12 00:43:35</td>\n",
       "      <td>2016-06-12 00:54:38</td>\n",
       "      <td>1</td>\n",
       "      <td>-73.980415</td>\n",
       "      <td>40.738564</td>\n",
       "      <td>-73.999481</td>\n",
       "      <td>40.731152</td>\n",
       "      <td>663</td>\n",
       "      <td>1.805507</td>\n",
       "      <td>1</td>\n",
       "      <td>0</td>\n",
       "      <td>1</td>\n",
       "      <td>0</td>\n",
       "    </tr>\n",
       "    <tr>\n",
       "      <th>2</th>\n",
       "      <td>id3858529</td>\n",
       "      <td>2016-01-19 11:35:24</td>\n",
       "      <td>2016-01-19 12:10:48</td>\n",
       "      <td>1</td>\n",
       "      <td>-73.979027</td>\n",
       "      <td>40.763939</td>\n",
       "      <td>-74.005333</td>\n",
       "      <td>40.710087</td>\n",
       "      <td>2093</td>\n",
       "      <td>6.385098</td>\n",
       "      <td>1</td>\n",
       "      <td>0</td>\n",
       "      <td>0</td>\n",
       "      <td>1</td>\n",
       "    </tr>\n",
       "    <tr>\n",
       "      <th>3</th>\n",
       "      <td>id3504673</td>\n",
       "      <td>2016-04-06 19:32:31</td>\n",
       "      <td>2016-04-06 19:39:40</td>\n",
       "      <td>1</td>\n",
       "      <td>-74.010040</td>\n",
       "      <td>40.719971</td>\n",
       "      <td>-74.012268</td>\n",
       "      <td>40.706718</td>\n",
       "      <td>429</td>\n",
       "      <td>1.485498</td>\n",
       "      <td>1</td>\n",
       "      <td>0</td>\n",
       "      <td>0</td>\n",
       "      <td>1</td>\n",
       "    </tr>\n",
       "    <tr>\n",
       "      <th>4</th>\n",
       "      <td>id2181028</td>\n",
       "      <td>2016-03-26 13:30:55</td>\n",
       "      <td>2016-03-26 13:38:10</td>\n",
       "      <td>1</td>\n",
       "      <td>-73.973053</td>\n",
       "      <td>40.793209</td>\n",
       "      <td>-73.972923</td>\n",
       "      <td>40.782520</td>\n",
       "      <td>435</td>\n",
       "      <td>1.188588</td>\n",
       "      <td>1</td>\n",
       "      <td>0</td>\n",
       "      <td>0</td>\n",
       "      <td>1</td>\n",
       "    </tr>\n",
       "  </tbody>\n",
       "</table>\n",
       "</div>"
      ],
      "text/plain": [
       "          id      pickup_datetime     dropoff_datetime  passenger_count  \\\n",
       "0  id2875421  2016-03-14 17:24:55  2016-03-14 17:32:30                1   \n",
       "1  id2377394  2016-06-12 00:43:35  2016-06-12 00:54:38                1   \n",
       "2  id3858529  2016-01-19 11:35:24  2016-01-19 12:10:48                1   \n",
       "3  id3504673  2016-04-06 19:32:31  2016-04-06 19:39:40                1   \n",
       "4  id2181028  2016-03-26 13:30:55  2016-03-26 13:38:10                1   \n",
       "\n",
       "   pickup_longitude  pickup_latitude  dropoff_longitude  dropoff_latitude  \\\n",
       "0        -73.982155        40.767937         -73.964630         40.765602   \n",
       "1        -73.980415        40.738564         -73.999481         40.731152   \n",
       "2        -73.979027        40.763939         -74.005333         40.710087   \n",
       "3        -74.010040        40.719971         -74.012268         40.706718   \n",
       "4        -73.973053        40.793209         -73.972923         40.782520   \n",
       "\n",
       "   trip_duration   dist_km  N  Y  1  2  \n",
       "0            455  1.498521  1  0  0  1  \n",
       "1            663  1.805507  1  0  1  0  \n",
       "2           2093  6.385098  1  0  0  1  \n",
       "3            429  1.485498  1  0  0  1  \n",
       "4            435  1.188588  1  0  0  1  "
      ]
     },
     "execution_count": 220,
     "metadata": {},
     "output_type": "execute_result"
    }
   ],
   "source": [
    "df.head()"
   ]
  },
  {
   "cell_type": "code",
   "execution_count": 221,
   "id": "0e4f12ae",
   "metadata": {},
   "outputs": [],
   "source": [
    "df['pickup_datetime'] = pd.to_datetime(df.pickup_datetime)\n",
    "df['dropoff_datetime'] = pd.to_datetime(df.dropoff_datetime)\n",
    "df['month'] = df.pickup_datetime.dt.month\n",
    "df['week'] = df['pickup_datetime'].dt.isocalendar().week\n",
    "df['weekday'] = df.pickup_datetime.dt.weekday\n",
    "df['hour'] = df.pickup_datetime.dt.hour\n",
    "df['minute'] = df.pickup_datetime.dt.minute\n",
    "df['minute_oftheday'] = df['hour'] * 60 + df['minute']\n",
    "df.drop(['minute'], axis=1, inplace=True)"
   ]
  },
  {
   "cell_type": "code",
   "execution_count": 222,
   "id": "bebbcc47",
   "metadata": {},
   "outputs": [
    {
     "data": {
      "text/html": [
       "<div>\n",
       "<style scoped>\n",
       "    .dataframe tbody tr th:only-of-type {\n",
       "        vertical-align: middle;\n",
       "    }\n",
       "\n",
       "    .dataframe tbody tr th {\n",
       "        vertical-align: top;\n",
       "    }\n",
       "\n",
       "    .dataframe thead th {\n",
       "        text-align: right;\n",
       "    }\n",
       "</style>\n",
       "<table border=\"1\" class=\"dataframe\">\n",
       "  <thead>\n",
       "    <tr style=\"text-align: right;\">\n",
       "      <th></th>\n",
       "      <th>id</th>\n",
       "      <th>pickup_datetime</th>\n",
       "      <th>dropoff_datetime</th>\n",
       "      <th>passenger_count</th>\n",
       "      <th>pickup_longitude</th>\n",
       "      <th>pickup_latitude</th>\n",
       "      <th>dropoff_longitude</th>\n",
       "      <th>dropoff_latitude</th>\n",
       "      <th>trip_duration</th>\n",
       "      <th>dist_km</th>\n",
       "      <th>N</th>\n",
       "      <th>Y</th>\n",
       "      <th>1</th>\n",
       "      <th>2</th>\n",
       "      <th>month</th>\n",
       "      <th>week</th>\n",
       "      <th>weekday</th>\n",
       "      <th>hour</th>\n",
       "      <th>minute_oftheday</th>\n",
       "    </tr>\n",
       "  </thead>\n",
       "  <tbody>\n",
       "    <tr>\n",
       "      <th>0</th>\n",
       "      <td>id2875421</td>\n",
       "      <td>2016-03-14 17:24:55</td>\n",
       "      <td>2016-03-14 17:32:30</td>\n",
       "      <td>1</td>\n",
       "      <td>-73.982155</td>\n",
       "      <td>40.767937</td>\n",
       "      <td>-73.964630</td>\n",
       "      <td>40.765602</td>\n",
       "      <td>455</td>\n",
       "      <td>1.498521</td>\n",
       "      <td>1</td>\n",
       "      <td>0</td>\n",
       "      <td>0</td>\n",
       "      <td>1</td>\n",
       "      <td>3</td>\n",
       "      <td>11</td>\n",
       "      <td>0</td>\n",
       "      <td>17</td>\n",
       "      <td>1044</td>\n",
       "    </tr>\n",
       "    <tr>\n",
       "      <th>1</th>\n",
       "      <td>id2377394</td>\n",
       "      <td>2016-06-12 00:43:35</td>\n",
       "      <td>2016-06-12 00:54:38</td>\n",
       "      <td>1</td>\n",
       "      <td>-73.980415</td>\n",
       "      <td>40.738564</td>\n",
       "      <td>-73.999481</td>\n",
       "      <td>40.731152</td>\n",
       "      <td>663</td>\n",
       "      <td>1.805507</td>\n",
       "      <td>1</td>\n",
       "      <td>0</td>\n",
       "      <td>1</td>\n",
       "      <td>0</td>\n",
       "      <td>6</td>\n",
       "      <td>23</td>\n",
       "      <td>6</td>\n",
       "      <td>0</td>\n",
       "      <td>43</td>\n",
       "    </tr>\n",
       "    <tr>\n",
       "      <th>2</th>\n",
       "      <td>id3858529</td>\n",
       "      <td>2016-01-19 11:35:24</td>\n",
       "      <td>2016-01-19 12:10:48</td>\n",
       "      <td>1</td>\n",
       "      <td>-73.979027</td>\n",
       "      <td>40.763939</td>\n",
       "      <td>-74.005333</td>\n",
       "      <td>40.710087</td>\n",
       "      <td>2093</td>\n",
       "      <td>6.385098</td>\n",
       "      <td>1</td>\n",
       "      <td>0</td>\n",
       "      <td>0</td>\n",
       "      <td>1</td>\n",
       "      <td>1</td>\n",
       "      <td>3</td>\n",
       "      <td>1</td>\n",
       "      <td>11</td>\n",
       "      <td>695</td>\n",
       "    </tr>\n",
       "    <tr>\n",
       "      <th>3</th>\n",
       "      <td>id3504673</td>\n",
       "      <td>2016-04-06 19:32:31</td>\n",
       "      <td>2016-04-06 19:39:40</td>\n",
       "      <td>1</td>\n",
       "      <td>-74.010040</td>\n",
       "      <td>40.719971</td>\n",
       "      <td>-74.012268</td>\n",
       "      <td>40.706718</td>\n",
       "      <td>429</td>\n",
       "      <td>1.485498</td>\n",
       "      <td>1</td>\n",
       "      <td>0</td>\n",
       "      <td>0</td>\n",
       "      <td>1</td>\n",
       "      <td>4</td>\n",
       "      <td>14</td>\n",
       "      <td>2</td>\n",
       "      <td>19</td>\n",
       "      <td>1172</td>\n",
       "    </tr>\n",
       "    <tr>\n",
       "      <th>4</th>\n",
       "      <td>id2181028</td>\n",
       "      <td>2016-03-26 13:30:55</td>\n",
       "      <td>2016-03-26 13:38:10</td>\n",
       "      <td>1</td>\n",
       "      <td>-73.973053</td>\n",
       "      <td>40.793209</td>\n",
       "      <td>-73.972923</td>\n",
       "      <td>40.782520</td>\n",
       "      <td>435</td>\n",
       "      <td>1.188588</td>\n",
       "      <td>1</td>\n",
       "      <td>0</td>\n",
       "      <td>0</td>\n",
       "      <td>1</td>\n",
       "      <td>3</td>\n",
       "      <td>12</td>\n",
       "      <td>5</td>\n",
       "      <td>13</td>\n",
       "      <td>810</td>\n",
       "    </tr>\n",
       "  </tbody>\n",
       "</table>\n",
       "</div>"
      ],
      "text/plain": [
       "          id     pickup_datetime    dropoff_datetime  passenger_count  \\\n",
       "0  id2875421 2016-03-14 17:24:55 2016-03-14 17:32:30                1   \n",
       "1  id2377394 2016-06-12 00:43:35 2016-06-12 00:54:38                1   \n",
       "2  id3858529 2016-01-19 11:35:24 2016-01-19 12:10:48                1   \n",
       "3  id3504673 2016-04-06 19:32:31 2016-04-06 19:39:40                1   \n",
       "4  id2181028 2016-03-26 13:30:55 2016-03-26 13:38:10                1   \n",
       "\n",
       "   pickup_longitude  pickup_latitude  dropoff_longitude  dropoff_latitude  \\\n",
       "0        -73.982155        40.767937         -73.964630         40.765602   \n",
       "1        -73.980415        40.738564         -73.999481         40.731152   \n",
       "2        -73.979027        40.763939         -74.005333         40.710087   \n",
       "3        -74.010040        40.719971         -74.012268         40.706718   \n",
       "4        -73.973053        40.793209         -73.972923         40.782520   \n",
       "\n",
       "   trip_duration   dist_km  N  Y  1  2  month  week  weekday  hour  \\\n",
       "0            455  1.498521  1  0  0  1      3    11        0    17   \n",
       "1            663  1.805507  1  0  1  0      6    23        6     0   \n",
       "2           2093  6.385098  1  0  0  1      1     3        1    11   \n",
       "3            429  1.485498  1  0  0  1      4    14        2    19   \n",
       "4            435  1.188588  1  0  0  1      3    12        5    13   \n",
       "\n",
       "   minute_oftheday  \n",
       "0             1044  \n",
       "1               43  \n",
       "2              695  \n",
       "3             1172  \n",
       "4              810  "
      ]
     },
     "execution_count": 222,
     "metadata": {},
     "output_type": "execute_result"
    }
   ],
   "source": [
    "df.head()"
   ]
  },
  {
   "cell_type": "code",
   "execution_count": 223,
   "id": "f93a02f6",
   "metadata": {},
   "outputs": [],
   "source": [
    "y = df[\"trip_duration\"]\n",
    "df.drop([\"trip_duration\"], axis=1, inplace=True)\n",
    "df.drop(['id'], axis=1, inplace=True)\n",
    "X = df"
   ]
  },
  {
   "cell_type": "code",
   "execution_count": 224,
   "id": "07f0cd2a",
   "metadata": {},
   "outputs": [
    {
     "data": {
      "text/plain": [
       "((973305, 17), (973305,), (479390, 17), (479390,))"
      ]
     },
     "execution_count": 224,
     "metadata": {},
     "output_type": "execute_result"
    }
   ],
   "source": [
    "from sklearn.model_selection import train_test_split\n",
    "\n",
    "X_train, X_test, y_train, y_test = train_test_split(X, y, test_size=0.33, random_state=42)\n",
    "\n",
    "X_train.shape, y_train.shape, X_test.shape, y_test.shape"
   ]
  },
  {
   "cell_type": "code",
   "execution_count": 171,
   "id": "df1d8266",
   "metadata": {},
   "outputs": [
    {
     "name": "stdout",
     "output_type": "stream",
     "text": [
      "Collecting catboost\n",
      "  Downloading catboost-1.2.2-cp311-cp311-win_amd64.whl (101.0 MB)\n",
      "                                              0.0/101.0 MB ? eta -:--:--\n",
      "                                             0.3/101.0 MB 10.6 MB/s eta 0:00:10\n",
      "                                             1.5/101.0 MB 19.0 MB/s eta 0:00:06\n",
      "     -                                       3.4/101.0 MB 24.4 MB/s eta 0:00:05\n",
      "     --                                      5.5/101.0 MB 29.4 MB/s eta 0:00:04\n",
      "     ---                                     7.8/101.0 MB 33.2 MB/s eta 0:00:03\n",
      "     ---                                    10.0/101.0 MB 37.7 MB/s eta 0:00:03\n",
      "     ----                                   13.0/101.0 MB 54.7 MB/s eta 0:00:02\n",
      "     -----                                  15.7/101.0 MB 59.5 MB/s eta 0:00:02\n",
      "     ------                                 18.1/101.0 MB 59.5 MB/s eta 0:00:02\n",
      "     -------                                20.7/101.0 MB 59.5 MB/s eta 0:00:02\n",
      "     --------                               22.8/101.0 MB 54.4 MB/s eta 0:00:02\n",
      "     ---------                              25.3/101.0 MB 50.4 MB/s eta 0:00:02\n",
      "     ----------                             27.7/101.0 MB 50.4 MB/s eta 0:00:02\n",
      "     -----------                            29.6/101.0 MB 50.4 MB/s eta 0:00:02\n",
      "     ------------                           32.4/101.0 MB 54.7 MB/s eta 0:00:02\n",
      "     -------------                          34.7/101.0 MB 50.4 MB/s eta 0:00:02\n",
      "     -------------                          36.3/101.0 MB 50.4 MB/s eta 0:00:02\n",
      "     --------------                         37.4/101.0 MB 43.5 MB/s eta 0:00:02\n",
      "     --------------                         38.6/101.0 MB 40.9 MB/s eta 0:00:02\n",
      "     ---------------                        40.6/101.0 MB 38.6 MB/s eta 0:00:02\n",
      "     ---------------                        42.0/101.0 MB 36.4 MB/s eta 0:00:02\n",
      "     ----------------                       43.9/101.0 MB 34.4 MB/s eta 0:00:02\n",
      "     -----------------                      45.3/101.0 MB 32.8 MB/s eta 0:00:02\n",
      "     -----------------                      47.1/101.0 MB 36.4 MB/s eta 0:00:02\n",
      "     ------------------                     48.7/101.0 MB 36.4 MB/s eta 0:00:02\n",
      "     ------------------                     49.8/101.0 MB 32.7 MB/s eta 0:00:02\n",
      "     -------------------                    52.2/101.0 MB 36.3 MB/s eta 0:00:02\n",
      "     --------------------                   53.4/101.0 MB 34.6 MB/s eta 0:00:02\n",
      "     --------------------                   55.7/101.0 MB 36.4 MB/s eta 0:00:02\n",
      "     ---------------------                  56.9/101.0 MB 34.4 MB/s eta 0:00:02\n",
      "     ----------------------                 59.2/101.0 MB 40.9 MB/s eta 0:00:02\n",
      "     ----------------------                 61.1/101.0 MB 40.9 MB/s eta 0:00:01\n",
      "     -----------------------                62.2/101.0 MB 34.4 MB/s eta 0:00:02\n",
      "     ------------------------               63.8/101.0 MB 36.3 MB/s eta 0:00:02\n",
      "     ------------------------               64.8/101.0 MB 34.4 MB/s eta 0:00:02\n",
      "     -------------------------              66.7/101.0 MB 32.8 MB/s eta 0:00:02\n",
      "     -------------------------              67.7/101.0 MB 32.7 MB/s eta 0:00:02\n",
      "     --------------------------             69.7/101.0 MB 32.7 MB/s eta 0:00:01\n",
      "     ---------------------------            72.3/101.0 MB 36.4 MB/s eta 0:00:01\n",
      "     ---------------------------            73.9/101.0 MB 36.4 MB/s eta 0:00:01\n",
      "     ----------------------------           75.1/101.0 MB 38.6 MB/s eta 0:00:01\n",
      "     -----------------------------          77.3/101.0 MB 38.5 MB/s eta 0:00:01\n",
      "     -----------------------------          78.9/101.0 MB 40.9 MB/s eta 0:00:01\n",
      "     ------------------------------         80.5/101.0 MB 38.5 MB/s eta 0:00:01\n",
      "     ------------------------------         82.3/101.0 MB 36.3 MB/s eta 0:00:01\n",
      "     -------------------------------        84.3/101.0 MB 38.5 MB/s eta 0:00:01\n",
      "     --------------------------------       86.3/101.0 MB 38.6 MB/s eta 0:00:01\n",
      "     ---------------------------------      87.8/101.0 MB 38.6 MB/s eta 0:00:01\n",
      "     ---------------------------------      89.5/101.0 MB 38.6 MB/s eta 0:00:01\n",
      "     ----------------------------------     91.0/101.0 MB 38.5 MB/s eta 0:00:01\n",
      "     ----------------------------------     92.8/101.0 MB 38.5 MB/s eta 0:00:01\n",
      "     -----------------------------------    94.8/101.0 MB 38.5 MB/s eta 0:00:01\n",
      "     ------------------------------------   96.7/101.0 MB 38.5 MB/s eta 0:00:01\n",
      "     -------------------------------------  98.4/101.0 MB 38.5 MB/s eta 0:00:01\n",
      "     ------------------------------------  100.3/101.0 MB 38.6 MB/s eta 0:00:01\n",
      "     ------------------------------------  101.0/101.0 MB 40.9 MB/s eta 0:00:01\n",
      "     ------------------------------------  101.0/101.0 MB 40.9 MB/s eta 0:00:01\n",
      "     ------------------------------------  101.0/101.0 MB 40.9 MB/s eta 0:00:01\n",
      "     ------------------------------------  101.0/101.0 MB 40.9 MB/s eta 0:00:01\n",
      "     ------------------------------------  101.0/101.0 MB 40.9 MB/s eta 0:00:01\n",
      "     ------------------------------------- 101.0/101.0 MB 18.2 MB/s eta 0:00:00\n",
      "Requirement already satisfied: graphviz in c:\\users\\asus\\anaconda3\\lib\\site-packages (from catboost) (0.20.1)\n",
      "Requirement already satisfied: matplotlib in c:\\users\\asus\\anaconda3\\lib\\site-packages (from catboost) (3.7.1)\n",
      "Requirement already satisfied: numpy>=1.16.0 in c:\\users\\asus\\anaconda3\\lib\\site-packages (from catboost) (1.24.3)\n",
      "Requirement already satisfied: pandas>=0.24 in c:\\users\\asus\\anaconda3\\lib\\site-packages (from catboost) (2.0.3)\n",
      "Requirement already satisfied: scipy in c:\\users\\asus\\anaconda3\\lib\\site-packages (from catboost) (1.11.1)\n",
      "Requirement already satisfied: plotly in c:\\users\\asus\\anaconda3\\lib\\site-packages (from catboost) (5.9.0)\n",
      "Requirement already satisfied: six in c:\\users\\asus\\anaconda3\\lib\\site-packages (from catboost) (1.16.0)\n",
      "Requirement already satisfied: python-dateutil>=2.8.2 in c:\\users\\asus\\anaconda3\\lib\\site-packages (from pandas>=0.24->catboost) (2.8.2)\n",
      "Requirement already satisfied: pytz>=2020.1 in c:\\users\\asus\\anaconda3\\lib\\site-packages (from pandas>=0.24->catboost) (2022.7)\n",
      "Requirement already satisfied: tzdata>=2022.1 in c:\\users\\asus\\anaconda3\\lib\\site-packages (from pandas>=0.24->catboost) (2023.3)\n",
      "Requirement already satisfied: contourpy>=1.0.1 in c:\\users\\asus\\anaconda3\\lib\\site-packages (from matplotlib->catboost) (1.0.5)\n",
      "Requirement already satisfied: cycler>=0.10 in c:\\users\\asus\\anaconda3\\lib\\site-packages (from matplotlib->catboost) (0.11.0)\n",
      "Requirement already satisfied: fonttools>=4.22.0 in c:\\users\\asus\\anaconda3\\lib\\site-packages (from matplotlib->catboost) (4.25.0)\n",
      "Requirement already satisfied: kiwisolver>=1.0.1 in c:\\users\\asus\\anaconda3\\lib\\site-packages (from matplotlib->catboost) (1.4.4)\n",
      "Requirement already satisfied: packaging>=20.0 in c:\\users\\asus\\anaconda3\\lib\\site-packages (from matplotlib->catboost) (23.0)\n",
      "Requirement already satisfied: pillow>=6.2.0 in c:\\users\\asus\\anaconda3\\lib\\site-packages (from matplotlib->catboost) (9.4.0)\n",
      "Requirement already satisfied: pyparsing>=2.3.1 in c:\\users\\asus\\anaconda3\\lib\\site-packages (from matplotlib->catboost) (3.0.9)\n",
      "Requirement already satisfied: tenacity>=6.2.0 in c:\\users\\asus\\anaconda3\\lib\\site-packages (from plotly->catboost) (8.2.2)\n",
      "Installing collected packages: catboost\n",
      "Successfully installed catboost-1.2.2\n",
      "Note: you may need to restart the kernel to use updated packages.\n"
     ]
    }
   ],
   "source": [
    "pip install catboost"
   ]
  },
  {
   "cell_type": "code",
   "execution_count": 225,
   "id": "34ed5377",
   "metadata": {},
   "outputs": [],
   "source": [
    "from catboost import CatBoostRegressor, CatBoostClassifier\n"
   ]
  },
  {
   "cell_type": "code",
   "execution_count": 226,
   "id": "d3487032",
   "metadata": {},
   "outputs": [
    {
     "name": "stdout",
     "output_type": "stream",
     "text": [
      "0:\tlearn: 495.4554156\ttotal: 308ms\tremaining: 30.5s\n",
      "1:\tlearn: 466.1586086\ttotal: 399ms\tremaining: 19.6s\n",
      "2:\tlearn: 440.6320434\ttotal: 486ms\tremaining: 15.7s\n",
      "3:\tlearn: 418.3469310\ttotal: 591ms\tremaining: 14.2s\n",
      "4:\tlearn: 399.3155136\ttotal: 699ms\tremaining: 13.3s\n",
      "5:\tlearn: 382.7056972\ttotal: 798ms\tremaining: 12.5s\n",
      "6:\tlearn: 368.5253686\ttotal: 900ms\tremaining: 12s\n",
      "7:\tlearn: 356.4022155\ttotal: 1s\tremaining: 11.5s\n",
      "8:\tlearn: 345.8804102\ttotal: 1.12s\tremaining: 11.3s\n",
      "9:\tlearn: 337.0310708\ttotal: 1.25s\tremaining: 11.2s\n",
      "10:\tlearn: 329.1192458\ttotal: 1.33s\tremaining: 10.8s\n",
      "11:\tlearn: 322.6888077\ttotal: 1.45s\tremaining: 10.6s\n",
      "12:\tlearn: 317.2662131\ttotal: 1.5s\tremaining: 10s\n",
      "13:\tlearn: 312.4724635\ttotal: 1.55s\tremaining: 9.53s\n",
      "14:\tlearn: 308.4578116\ttotal: 1.61s\tremaining: 9.13s\n",
      "15:\tlearn: 304.9834715\ttotal: 1.67s\tremaining: 8.74s\n",
      "16:\tlearn: 302.0336267\ttotal: 1.72s\tremaining: 8.4s\n",
      "17:\tlearn: 299.4492723\ttotal: 1.77s\tremaining: 8.09s\n",
      "18:\tlearn: 296.9610501\ttotal: 1.83s\tremaining: 7.82s\n",
      "19:\tlearn: 295.0123227\ttotal: 1.89s\tremaining: 7.56s\n",
      "20:\tlearn: 292.9985986\ttotal: 1.94s\tremaining: 7.3s\n",
      "21:\tlearn: 291.2074997\ttotal: 2s\tremaining: 7.08s\n",
      "22:\tlearn: 289.9533737\ttotal: 2.06s\tremaining: 6.88s\n",
      "23:\tlearn: 288.8297988\ttotal: 2.11s\tremaining: 6.67s\n",
      "24:\tlearn: 287.4725788\ttotal: 2.16s\tremaining: 6.49s\n",
      "25:\tlearn: 286.2172477\ttotal: 2.22s\tremaining: 6.31s\n",
      "26:\tlearn: 285.1527624\ttotal: 2.27s\tremaining: 6.15s\n",
      "27:\tlearn: 284.3261971\ttotal: 2.33s\tremaining: 5.99s\n",
      "28:\tlearn: 283.4540451\ttotal: 2.38s\tremaining: 5.83s\n",
      "29:\tlearn: 282.7390106\ttotal: 2.43s\tremaining: 5.66s\n",
      "30:\tlearn: 281.7892707\ttotal: 2.48s\tremaining: 5.53s\n",
      "31:\tlearn: 281.1802842\ttotal: 2.54s\tremaining: 5.39s\n",
      "32:\tlearn: 280.3785208\ttotal: 2.59s\tremaining: 5.26s\n",
      "33:\tlearn: 279.5229143\ttotal: 2.64s\tremaining: 5.12s\n",
      "34:\tlearn: 278.9047079\ttotal: 2.69s\tremaining: 5s\n",
      "35:\tlearn: 278.3651589\ttotal: 2.74s\tremaining: 4.87s\n",
      "36:\tlearn: 277.8114896\ttotal: 2.78s\tremaining: 4.74s\n",
      "37:\tlearn: 277.2788988\ttotal: 2.83s\tremaining: 4.63s\n",
      "38:\tlearn: 276.5278647\ttotal: 2.89s\tremaining: 4.52s\n",
      "39:\tlearn: 276.0386760\ttotal: 2.93s\tremaining: 4.39s\n",
      "40:\tlearn: 275.4139877\ttotal: 2.98s\tremaining: 4.29s\n",
      "41:\tlearn: 274.9987859\ttotal: 3.03s\tremaining: 4.19s\n",
      "42:\tlearn: 274.6563956\ttotal: 3.08s\tremaining: 4.08s\n",
      "43:\tlearn: 274.2889120\ttotal: 3.13s\tremaining: 3.98s\n",
      "44:\tlearn: 273.5922350\ttotal: 3.18s\tremaining: 3.89s\n",
      "45:\tlearn: 273.2308875\ttotal: 3.23s\tremaining: 3.79s\n",
      "46:\tlearn: 272.5931517\ttotal: 3.28s\tremaining: 3.7s\n",
      "47:\tlearn: 272.2118960\ttotal: 3.33s\tremaining: 3.61s\n",
      "48:\tlearn: 271.9891990\ttotal: 3.38s\tremaining: 3.52s\n",
      "49:\tlearn: 271.5807715\ttotal: 3.43s\tremaining: 3.43s\n",
      "50:\tlearn: 271.0523264\ttotal: 3.48s\tremaining: 3.35s\n",
      "51:\tlearn: 270.7353541\ttotal: 3.53s\tremaining: 3.26s\n",
      "52:\tlearn: 270.3297380\ttotal: 3.58s\tremaining: 3.18s\n",
      "53:\tlearn: 269.9988085\ttotal: 3.63s\tremaining: 3.1s\n",
      "54:\tlearn: 269.6993807\ttotal: 3.69s\tremaining: 3.02s\n",
      "55:\tlearn: 269.3860892\ttotal: 3.74s\tremaining: 2.94s\n",
      "56:\tlearn: 268.9052034\ttotal: 3.79s\tremaining: 2.86s\n",
      "57:\tlearn: 268.5577693\ttotal: 3.85s\tremaining: 2.78s\n",
      "58:\tlearn: 268.3281352\ttotal: 3.9s\tremaining: 2.71s\n",
      "59:\tlearn: 267.9972452\ttotal: 3.95s\tremaining: 2.63s\n",
      "60:\tlearn: 267.8389977\ttotal: 4s\tremaining: 2.55s\n",
      "61:\tlearn: 267.5986969\ttotal: 4.04s\tremaining: 2.48s\n",
      "62:\tlearn: 267.3535158\ttotal: 4.09s\tremaining: 2.4s\n",
      "63:\tlearn: 267.1886621\ttotal: 4.14s\tremaining: 2.33s\n",
      "64:\tlearn: 267.0083530\ttotal: 4.19s\tremaining: 2.26s\n",
      "65:\tlearn: 266.8979114\ttotal: 4.24s\tremaining: 2.19s\n",
      "66:\tlearn: 266.6556160\ttotal: 4.29s\tremaining: 2.11s\n",
      "67:\tlearn: 266.4510963\ttotal: 4.34s\tremaining: 2.04s\n",
      "68:\tlearn: 266.1545468\ttotal: 4.39s\tremaining: 1.97s\n",
      "69:\tlearn: 265.9083719\ttotal: 4.44s\tremaining: 1.9s\n",
      "70:\tlearn: 265.6791853\ttotal: 4.49s\tremaining: 1.83s\n",
      "71:\tlearn: 265.4911428\ttotal: 4.54s\tremaining: 1.76s\n",
      "72:\tlearn: 265.2881376\ttotal: 4.58s\tremaining: 1.7s\n",
      "73:\tlearn: 265.1312495\ttotal: 4.63s\tremaining: 1.63s\n",
      "74:\tlearn: 264.8847060\ttotal: 4.68s\tremaining: 1.56s\n",
      "75:\tlearn: 264.7503986\ttotal: 4.74s\tremaining: 1.5s\n",
      "76:\tlearn: 264.5485575\ttotal: 4.79s\tremaining: 1.43s\n",
      "77:\tlearn: 264.1945752\ttotal: 4.83s\tremaining: 1.36s\n",
      "78:\tlearn: 263.8475271\ttotal: 4.89s\tremaining: 1.3s\n",
      "79:\tlearn: 263.7393660\ttotal: 4.93s\tremaining: 1.23s\n",
      "80:\tlearn: 263.6080508\ttotal: 4.98s\tremaining: 1.17s\n",
      "81:\tlearn: 263.2811679\ttotal: 5.03s\tremaining: 1.1s\n",
      "82:\tlearn: 263.1394499\ttotal: 5.08s\tremaining: 1.04s\n",
      "83:\tlearn: 262.9363428\ttotal: 5.13s\tremaining: 976ms\n",
      "84:\tlearn: 262.7535046\ttotal: 5.18s\tremaining: 914ms\n",
      "85:\tlearn: 262.6015543\ttotal: 5.24s\tremaining: 852ms\n",
      "86:\tlearn: 262.3158749\ttotal: 5.28s\tremaining: 789ms\n",
      "87:\tlearn: 261.8848462\ttotal: 5.33s\tremaining: 727ms\n",
      "88:\tlearn: 261.6057466\ttotal: 5.38s\tremaining: 665ms\n",
      "89:\tlearn: 261.4535849\ttotal: 5.43s\tremaining: 604ms\n",
      "90:\tlearn: 261.2471631\ttotal: 5.47s\tremaining: 542ms\n",
      "91:\tlearn: 260.9395884\ttotal: 5.52s\tremaining: 480ms\n",
      "92:\tlearn: 260.8255768\ttotal: 5.58s\tremaining: 420ms\n",
      "93:\tlearn: 260.6720073\ttotal: 5.63s\tremaining: 360ms\n",
      "94:\tlearn: 260.4204053\ttotal: 5.68s\tremaining: 299ms\n",
      "95:\tlearn: 260.2850689\ttotal: 5.74s\tremaining: 239ms\n",
      "96:\tlearn: 260.1814622\ttotal: 5.79s\tremaining: 179ms\n",
      "97:\tlearn: 260.0828504\ttotal: 5.84s\tremaining: 119ms\n",
      "98:\tlearn: 259.9001181\ttotal: 5.9s\tremaining: 59.6ms\n",
      "99:\tlearn: 259.7930255\ttotal: 5.95s\tremaining: 0us\n"
     ]
    }
   ],
   "source": [
    "model = CatBoostRegressor(iterations=100, learning_rate=0.1, depth=6)\n",
    "\n",
    "# Fit the model\n",
    "model.fit(X_train, y_train)\n",
    "\n",
    "# Generate predictions\n",
    "predictions = model.predict(X_test)"
   ]
  },
  {
   "cell_type": "code",
   "execution_count": 227,
   "id": "d3ca6d2c",
   "metadata": {},
   "outputs": [
    {
     "data": {
      "text/plain": [
       "array([ 960.56951428,  751.96748053,  626.86084334, ...,  343.28002371,\n",
       "       1987.77499829,  601.30122637])"
      ]
     },
     "execution_count": 227,
     "metadata": {},
     "output_type": "execute_result"
    }
   ],
   "source": [
    "predictions"
   ]
  },
  {
   "cell_type": "code",
   "execution_count": 232,
   "id": "3c3a3e0a",
   "metadata": {},
   "outputs": [],
   "source": [
    "from sklearn.metrics import mean_squared_error\n",
    "from sklearn.metrics import mean_squared_log_error\n",
    "\n"
   ]
  },
  {
   "cell_type": "code",
   "execution_count": 229,
   "id": "27ee2210",
   "metadata": {},
   "outputs": [
    {
     "name": "stdout",
     "output_type": "stream",
     "text": [
      "Mean Squared Error: 67345.13598971754\n"
     ]
    }
   ],
   "source": [
    "mse = mean_squared_error(y_test, predictions)\n",
    "print(f'Mean Squared Error: {mse}')"
   ]
  },
  {
   "cell_type": "code",
   "execution_count": 230,
   "id": "d62cf990",
   "metadata": {},
   "outputs": [],
   "source": [
    "rmse = np.sqrt(mean_squared_error(y_test, predictions))\n"
   ]
  },
  {
   "cell_type": "code",
   "execution_count": 231,
   "id": "3fd6df84",
   "metadata": {},
   "outputs": [
    {
     "name": "stdout",
     "output_type": "stream",
     "text": [
      "259.5094140676163\n"
     ]
    }
   ],
   "source": [
    "print(rmse)"
   ]
  },
  {
   "cell_type": "code",
   "execution_count": 233,
   "id": "a4628040",
   "metadata": {},
   "outputs": [],
   "source": [
    "predictions = np.maximum(predictions, 0)\n",
    "y_test = np.maximum(y_test, 0)\n",
    "\n",
    "# Calculate RMSLE\n",
    "rmsle = np.sqrt(mean_squared_log_error(y_test + 1, predictions + 1))"
   ]
  },
  {
   "cell_type": "code",
   "execution_count": 234,
   "id": "7c1a8aca",
   "metadata": {},
   "outputs": [
    {
     "data": {
      "text/plain": [
       "0.40278754195757094"
      ]
     },
     "execution_count": 234,
     "metadata": {},
     "output_type": "execute_result"
    }
   ],
   "source": [
    "rmsle"
   ]
  },
  {
   "cell_type": "code",
   "execution_count": null,
   "id": "4a8bfb5f",
   "metadata": {},
   "outputs": [],
   "source": []
  }
 ],
 "metadata": {
  "kernelspec": {
   "display_name": "Python 3 (ipykernel)",
   "language": "python",
   "name": "python3"
  },
  "language_info": {
   "codemirror_mode": {
    "name": "ipython",
    "version": 3
   },
   "file_extension": ".py",
   "mimetype": "text/x-python",
   "name": "python",
   "nbconvert_exporter": "python",
   "pygments_lexer": "ipython3",
   "version": "3.11.3"
  }
 },
 "nbformat": 4,
 "nbformat_minor": 5
}
